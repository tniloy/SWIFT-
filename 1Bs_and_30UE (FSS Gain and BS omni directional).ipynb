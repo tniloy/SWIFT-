{
 "cells": [
  {
   "cell_type": "code",
   "execution_count": 1,
   "id": "f134e817",
   "metadata": {
    "id": "f134e817"
   },
   "outputs": [],
   "source": [
    "import math\n",
    "import random\n",
    "import matplotlib.pyplot as plt\n",
    "import numpy as np\n",
    "random.seed(10)"
   ]
  },
  {
   "cell_type": "code",
   "execution_count": 2,
   "id": "ba20a2f7",
   "metadata": {
    "colab": {
     "base_uri": "https://localhost:8080/"
    },
    "id": "ba20a2f7",
    "outputId": "7dfa5788-cef9-4982-e05c-990a01be8ee7"
   },
   "outputs": [
    {
     "name": "stdout",
     "output_type": "stream",
     "text": [
      "Total area is = 78539816.33974482\n"
     ]
    }
   ],
   "source": [
    "center_x = 0\n",
    "center_y = 0\n",
    "center_z = 0\n",
    "\n",
    "radius  = 5000\n",
    "\n",
    "print(\"Total area is = \" + str(radius*radius*math.pi))"
   ]
  },
  {
   "cell_type": "code",
   "execution_count": 3,
   "id": "105b844b",
   "metadata": {
    "id": "105b844b"
   },
   "outputs": [],
   "source": [
    "class BS:\n",
    "  def __init__(self, radius, max_height, carr_freq, interference_type):\n",
    "    self.radius = radius\n",
    "    self.max_height = max_height\n",
    "    self.carr_freq = carr_freq\n",
    "    self.interference_type = interference_type\n",
    "    self.base_heights = {\n",
    "        'UMi': 10,\n",
    "        'UMa': 25,\n",
    "        'RMa': 35,\n",
    "        None: random.randint(10, 35)\n",
    "    }\n",
    "    self.BS_x = random.randint(-4000,4000) + 1000*random.random()\n",
    "    self.BS_y = random.randint(-4000,4000) + 1000*random.random()\n",
    "    self.BS_z = self.base_heights[self.interference_type]\n",
    "\n",
    "  def BS_random_co_ordinates(self):\n",
    "    return self.BS_x, self.BS_y, self.BS_z\n",
    " \n",
    "  def UE_random_co_ordinates(self):\n",
    "    UE_x = random.randint(-4000,4000) + 1000*random.random()\n",
    "    UE_y = random.randint(-4000,4000) + 1000*random.random()\n",
    "    UE_z = random.uniform(0,1.5)\n",
    "    \n",
    "    return UE_x, UE_y, UE_z\n",
    "\n",
    "# Creating the FSS class\n",
    "  def FSS_random_co_ordinates(self):\n",
    "\n",
    "    FSS_x = random.randint(-4000,4000) + 1000*random.random()\n",
    "    FSS_y = random.randint(-4000,4000) + 1000*random.random()\n",
    "    FSS_z = random.choice([1.5,4.5])\n",
    "    \n",
    "    return FSS_x, FSS_y, FSS_z\n"
   ]
  },
  {
   "cell_type": "code",
   "execution_count": 4,
   "id": "588f6adb",
   "metadata": {
    "id": "588f6adb"
   },
   "outputs": [],
   "source": [
    "def path_loss_UMi(BS_X,BS_Y,BS_Z,FSS_X,FSS_Y,FSS_Z):\n",
    "##UMi\n",
    "##LOS,SF=4:\n",
    "\n",
    "##(10m<=d_2D)<=D_BP:\n",
    "    h=5\n",
    "    d_2D=math.sqrt(((FSS_X-BS_X)**2)+((FSS_Y-BS_Y)**2)+((FSS_Z-BS_Z)**2))\n",
    "    hBs=10\n",
    "    fc=12e3\n",
    "    d_3D=math.sqrt(hBs**2+d_2D**2)\n",
    "    PL1umi=32.4+21*math.log(d_3D)+20*math.log(fc)\n",
    "    \n",
    "##(D_BP<=d_2D)<=5000m:\n",
    "    hBs=10\n",
    "    hUT=1.5\n",
    "    hE=1\n",
    "    hBs1=hBs-hE\n",
    "    hUT1=hUT-hE\n",
    "    c=3*10**8\n",
    "    D_BP= (4*hBs1*hUT1*fc)/c\n",
    "    PL2umi=32.4+40*math.log(d_3D)+20*math.log(fc)-9.5*math.log((D_BP)**2+(hBs-hUT)**2)\n",
    "    \n",
    "    if 10 <=d_2D and d_2D<=D_BP:\n",
    "        PLUMiLOS=PL1umi\n",
    "    elif D_BP<=d_2D and  d_2D<=5000:\n",
    "        PLUMiLOS= PL2umi  \n",
    "    else:\n",
    "        PLUMiLOS=1\n",
    "\n",
    "##NLOS,SF=7.82:\n",
    "    PL1umiNLOS= 35.3*math.log(d_3D)+22.4+21.3*math.log(fc)-0.3*(hUT-1.5)\n",
    "    PLUMiNLOS= max(PL2umi,PL1umiNLOS)\n",
    "    \n",
    "##Loss Probability:\n",
    "    if d_2D>18:\n",
    "        PrLosUmi=(18/d_2D)+math.exp((-(d_2D/36))*(1-(18/d_2D)))     \n",
    "    else:\n",
    "        PrLosUmi=1 ##d_2d<=18   \n",
    "    \n",
    "    if PrLosUmi > random.random():\n",
    "        path_loss_UMi = PLUMiLOS\n",
    "    \n",
    "    else:\n",
    "        path_loss_UMi = PLUMiNLOS\n",
    "    \n",
    "##path_loss \n",
    "#     path_loss_UMi= PL2umi*PrLosUmi+PL1umiNLOS*(1-PrLosUmi)\n",
    "    \n",
    "    return path_loss_UMi,d_2D"
   ]
  },
  {
   "cell_type": "code",
   "execution_count": 5,
   "id": "b511d323",
   "metadata": {
    "id": "b511d323"
   },
   "outputs": [],
   "source": [
    "def path_loss_UMa(BS_X,BS_Y,BS_Z,FSS_X,FSS_Y,FSS_Z):\n",
    "##LOS,SF=4:\n",
    "##(10m<=d_2D)<=D_BP:\n",
    "    fc=12e3\n",
    "    h=5\n",
    "    d_2D=math.sqrt(((FSS_X-BS_X)**2)+(FSS_Y- BS_Y)**2)+((FSS_Z-BS_Z)**2)\n",
    "    hBs=25\n",
    "    d_3D=math.sqrt(hBs**2+d_2D**2)\n",
    "    PL3uma=28.0+22*math.log(d_3D)+20*math.log(fc)\n",
    "    \n",
    "##(D_BP<=d_2D) <=5000m:\n",
    "    hUT=1.5\n",
    "    hE=1\n",
    "    hBs1=hBs-hE\n",
    "    hUT1=hUT-hE\n",
    "    c=3*10**8\n",
    "    D_BP= (4*hBs1*hUT1*fc)/c\n",
    "    PL4uma=28.0+40*math.log(d_3D)+20*math.log(fc)-9*math.log((D_BP)**2+(hBs-hUT)**2)\n",
    "    \n",
    "    if 10 <=d_2D and d_2D<=D_BP:\n",
    "        PLUMALOS=PL3uma\n",
    "    elif D_BP<=d_2D and d_2D<=5000:\n",
    "        PLUMALOS= PL4uma  \n",
    "    else:\n",
    "        PLUMALOS=1\n",
    "        \n",
    "##NLOS,SF=6:\n",
    "    PL1NLOSuma=13.54+39.08*math.log(d_3D)+20*math.log(fc)-0.6*(hUT-1.5)\n",
    "    PLUMANLOS=max(PL4uma,PL1NLOSuma)\n",
    "\n",
    "##NLOS,SF=7.8 (optional)\n",
    "##PL_Optional=32.4+20*math.log(fc)+30*math.log(d_3D)\n",
    "\n",
    "##Loss Probability:\n",
    "    if d_2D >18:\n",
    "        if hUT<=13:\n",
    "            ChUT=0\n",
    "        elif 13<hUT and hUT<=23:\n",
    "            ChUT=((hUT-13)/10)**1.5  \n",
    "        PrLOSUma=((18/d_2D)+math.exp((-(d_2D/63))*(1-(18/d_2D))))*(1+ChUT*(5/4)*((d_2D/100)**3)*math.exp(-(d_2D/150)))\n",
    "    else:##18m<d_2D:\n",
    "        PrLOSUma=1\n",
    "        \n",
    "    if PrLOSUma > random.random():\n",
    "        path_loss_UMa = PLUMALOS\n",
    "    \n",
    "    else:\n",
    "        path_loss_UMa = PLUMANLOS\n",
    "    \n",
    "##Path Loss\n",
    "#     path_loss_UMa= PL4uma*PrLOSUma+PL1NLOSuma*(1-PrLOSUma)\n",
    "    return path_loss_UMa, d_2D"
   ]
  },
  {
   "cell_type": "code",
   "execution_count": 6,
   "id": "4a3d8b7b",
   "metadata": {
    "id": "4a3d8b7b"
   },
   "outputs": [],
   "source": [
    "def path_loss_RMa(BS_X,BS_Y,BS_Z,FSS_X,FSS_Y,FSS_Z):\n",
    "##LOS,SF=4(PL1),SF=6(PL2)\n",
    "##10m<=d_2D<=d_BP: \n",
    "    fc=12e3\n",
    "    h=5\n",
    "    d_2D=math.sqrt(((FSS_X-BS_X)**2)+((FSS_Y- BS_Y)**2)+((FSS_Z-BS_Z)**2))\n",
    "    hBs=35\n",
    "    d_3D= math.sqrt(hBs**2+d_2D**2)\n",
    "    PL1rma=20*math.log((40*math.pi*d_3D*fc)/3)+ min(0.03*h**1.72,10)*math.log(d_3D)-min(0.044*h**1.72,14.77)+0.002*math.log(h)*d_3D\n",
    "    \n",
    "##d_BP<=d_2D<=10km:\n",
    "    hUT=1.5\n",
    "    c=3*10**8\n",
    "    d_BP= (2*math.pi*hBs*hUT*fc)/c\n",
    "    PL2rma= PL1rma*(d_BP)+40*math.log(d_3D/d_BP)\n",
    "\n",
    "    if 10<=d_2D and d_2D <=d_BP:\n",
    "        PLRMALOS=PL1rma\n",
    "    elif d_BP<=d_2D and d_2D <=10000:\n",
    "        PLRMALOS= PL2rma  \n",
    "    else:\n",
    "        PLRMALOS=1\n",
    "\n",
    "##NLOS,SF=8:\n",
    "    W=20\n",
    "    h=5\n",
    "    PL1NLOSrma= 161.04-7.11*math.log(W)+7.5*math.log(h)-(24.37-3.7*(h/hBs)**2)*math.log(hBs)+(43.42-3.1*math.log(hBs))*(math.log(d_3D)-3)+20*math.log(fc)-(3.2*(math.log(11.75*hUT))**2-4.97)\n",
    "    PLRMANLOS=max(PL2rma,PL1NLOSrma)\n",
    "\n",
    "##Loss Probability:\n",
    "    if d_2D>10:\n",
    "        PrLOSrma=math.exp(-((d_2D-10)/1000))\n",
    "        \n",
    "## 10m<d_2D:\n",
    "    else:\n",
    "        PrLOSrma=1\n",
    "        \n",
    "    if PrLOSrma > random.random():\n",
    "        path_loss_RMa= PLRMALOS\n",
    "    \n",
    "    else:\n",
    "        path_loss_RMa = PLRMANLOS\n",
    "\n",
    "##PathLoss:\n",
    "#     path_loss_RMa=PL2rma*PrLOSrma+PL1NLOSrma*(1-PrLOSrma)\n",
    "    return path_loss_RMa, d_2D"
   ]
  },
  {
   "cell_type": "code",
   "execution_count": 7,
   "id": "af179d64",
   "metadata": {
    "id": "af179d64"
   },
   "outputs": [],
   "source": [
    "def Interface_UMi_1(BS_X,BS_Y,BS_Z,FSS_X,FSS_Y,FSS_Z,FSS_phi,pathloss_UMi,theta_tilt,phi_scan,output=False):\n",
    "        LBodyLoss=4\n",
    "#         LSpectralOverlap=10*math.log(10)\n",
    "        # theta_tilt, phi_scan = max_gain_5g_parameters(theta, phi)\n",
    "        x, y, z = BS_X-FSS_X, BS_Y-FSS_Y, BS_Z-FSS_Z\n",
    "\n",
    "        theta_bs_es = math.degrees(math.atan(y/x)) % 360\n",
    "        phi_bs_es = math.degrees(math.sqrt(x**2 + y**2) / z) % 360\n",
    "        fss_phi_difference = abs(FSS_phi - phi_bs_es)\n",
    "        if output: print(\"theta_bs_es:\", theta_bs_es, \"phi_bs_es:\", phi_bs_es)\n",
    "\n",
    "        G_5G_R=0\n",
    "        G_Rx_5G=gain_fss_wbes_b(fss_phi_difference)\n",
    "\n",
    "        TXPower=41.3\n",
    "#         LBuildingLoss=1\n",
    "        interface1=TXPower+ G_5G_R-pathloss_UMi- LBodyLoss + G_Rx_5G\n",
    "        return interface1,pathloss_UMi"
   ]
  },
  {
   "cell_type": "code",
   "execution_count": 8,
   "id": "5ece46a3",
   "metadata": {
    "id": "5ece46a3"
   },
   "outputs": [],
   "source": [
    "def Interface_UMa_1(BS_X,BS_Y,BS_Z,FSS_X,FSS_Y,FSS_Z,FSS_phi,pathloss_UMa,theta_tilt,phi_scan,output=False):\n",
    "        LBodyLoss=4\n",
    "#         LSpectralOverlap=10*math.log(10)\n",
    "        x, y, z = BS_X-FSS_X, BS_Y-FSS_Y, BS_Z-FSS_Z\n",
    "\n",
    "        theta_bs_es = math.degrees(math.atan(y/x)) % 360\n",
    "        phi_bs_es = math.degrees(math.sqrt(x**2 + y**2) / z) % 360\n",
    "        fss_phi_difference = abs(FSS_phi - phi_bs_es)\n",
    "        # if output: print(\"theta_bs_es:\", theta_bs_es, \"phi_bs_es:\", phi_bs_es)\n",
    "\n",
    "        G_5G_R=0\n",
    "        G_Rx_5G=gain_fss_wbes_b(fss_phi_difference)\n",
    "        \n",
    "        TXPower=41.3\n",
    "#         LBuildingLoss=1\n",
    "        interface2=TXPower+ G_5G_R-pathloss_UMa- LBodyLoss + G_Rx_5G\n",
    "        return interface2,pathloss_UMa"
   ]
  },
  {
   "cell_type": "code",
   "execution_count": 9,
   "id": "c3edfcd7",
   "metadata": {
    "id": "c3edfcd7"
   },
   "outputs": [],
   "source": [
    "def Interface_RMa_1(BS_X,BS_Y,BS_Z,FSS_X,FSS_Y,FSS_Z,FSS_phi,pathloss_RMa,theta_tilt,phi_scan,output=False):\n",
    "        LBodyLoss=4\n",
    "#         LSpectralOverlap=10*math.log(10)\n",
    "        x, y, z = BS_X-FSS_X, BS_Y-FSS_Y, BS_Z-FSS_Z\n",
    "\n",
    "        theta_bs_es = math.degrees(math.atan(y/x)) % 360\n",
    "        phi_bs_es = math.degrees(math.sqrt(x**2 + y**2) / z) % 360\n",
    "        # if output: print(\"theta_bs_es:\", theta_bs_es, \"phi_bs_es:\", phi_bs_es)\n",
    "        fss_phi_difference = abs(FSS_phi - phi_bs_es)\n",
    "        if output: print(\"fss_phi_difference:\", fss_phi_difference)\n",
    "\n",
    "        G_5G_R=0\n",
    "        G_Rx_5G=gain_fss_wbes_b(fss_phi_difference)\n",
    "        \n",
    "        TXPower=41.3\n",
    "#         LBuildingLoss=1\n",
    "        interface3=TXPower+ G_5G_R-pathloss_RMa-LBodyLoss + G_Rx_5G\n",
    "        return interface3,pathloss_RMa"
   ]
  },
  {
   "cell_type": "code",
   "execution_count": 10,
   "id": "54017c74",
   "metadata": {
    "colab": {
     "base_uri": "https://localhost:8080/"
    },
    "id": "54017c74",
    "outputId": "94e101f6-d4b2-43ad-e34b-dc0c117b1b52"
   },
   "outputs": [
    {
     "name": "stdout",
     "output_type": "stream",
     "text": [
      "Noise: -464.6311770415119\n"
     ]
    }
   ],
   "source": [
    "k = 1.38064852*10**(-23)\n",
    "T=200\n",
    "B=0.24\n",
    "Noise = 10*math.log(10*(k*T*B))\n",
    "print('Noise:', Noise)"
   ]
  },
  {
   "cell_type": "code",
   "execution_count": 11,
   "id": "f88ba92f",
   "metadata": {
    "id": "f88ba92f"
   },
   "outputs": [],
   "source": [
    "bs_ue_max_radius = 1000\n",
    "\n",
    "fss1 = BS(radius, max_height=1.5, carr_freq=12e3, interference_type=None)\n",
    "x,y,z = fss1.FSS_random_co_ordinates()\n",
    "        \n",
    "def simulate(output=True):\n",
    "    FSS_X=np.array([])\n",
    "    FSS_Y=np.array([])\n",
    "    FSS_Z=np.array([])\n",
    "    for i in range (1):\n",
    "        FSS_X = np.append(FSS_X, x)\n",
    "        FSS_Y = np.append(FSS_Y, y)\n",
    "        FSS_Z = np.append(FSS_Z, z)\n",
    "        if output: print(\"FSS Co-ordinates=\" +str (x)+ \",\" + str(y)+ \",\" + str(z))\n",
    "    if output: print(FSS_X, FSS_Y,FSS_Z)\n",
    "\n",
    "    # Create base stations\n",
    "    BS_X=np.array([])\n",
    "    BS_Y=np.array([])\n",
    "    BS_Z=np.array([])\n",
    "    for i in range (1):\n",
    "        bs1 = BS(radius, max_height=35, carr_freq=12e3, interference_type=None)\n",
    "        x2,y2,z2 = bs1.BS_random_co_ordinates()\n",
    "        BS_X = np.append(BS_X, x2)\n",
    "        BS_Y = np.append(BS_Y, y2)\n",
    "        BS_Z = np.append(BS_Z, z2)\n",
    "        if output: print(\"Bs Co-ordinates=\" +str (x2)+ \",\" + str(y2)+ \",\" + str(z2))\n",
    "    \n",
    "    if output: print(BS_X,BS_Y,BS_Z)\n",
    "\n",
    "    # Create user equipment\n",
    "    UE_X=np.array([])\n",
    "    UE_Y=np.array([])\n",
    "    UE_Z=np.array([])\n",
    "    for i in range(3):\n",
    "    # number of split regions\n",
    "      for j in range(10):\n",
    "      # number of UEs per region\n",
    "        bs_x, bs_y, bs_z = BS_X[-1], BS_Y[-1], BS_Z[-1]\n",
    "        theta_bs_ue = random.uniform(120 * i, 120 * (i+1))\n",
    "        # 0-120, 120-240, 240-360\n",
    "        radius_bs_ue = random.uniform(0, bs_ue_max_radius)\n",
    "\n",
    "        x1 = radius_bs_ue * math.cos(math.radians(theta_bs_ue))\n",
    "        y1 = radius_bs_ue * math.sin(math.radians(theta_bs_ue))\n",
    "\n",
    "        UE_X = np.append(UE_X, x1)\n",
    "        UE_Y = np.append(UE_Y, y1)\n",
    "        UE_Z = np.append(UE_Z, 1.5)\n",
    "        if output: print(\"UE Co-ordinates=\" +str (x1)+ \",\" + str(y1)+ \",\" + str(z1))\n",
    "    if output: print(UE_X,UE_Y,UE_Z)\n",
    "        \n",
    "    pathloss_UMa=np.empty([0])\n",
    "    pathloss_UMi=np.empty([0])\n",
    "    pathloss_RMa=np.empty([0])\n",
    "    distance_UMa=np.empty([0])\n",
    "    distance_UMi=np.empty([0])\n",
    "    distance_RMa=np.empty([0])  \n",
    "    for i in range(len(BS_X)):\n",
    "        for j in range (len(FSS_X)):\n",
    "            pathlossumi,distance= path_loss_UMi(BS_X[i],BS_Y[i],10,FSS_X[j],FSS_Y[j],FSS_Z[j])\n",
    "            pathlossuma,distance= path_loss_UMa(BS_X[i],BS_Y[i],25,FSS_X[j],FSS_Y[j],FSS_Z[j])\n",
    "            pathlossrma,distance= path_loss_RMa(BS_X[i],BS_Y[i],35,FSS_X[j],FSS_Y[j],FSS_Z[j])\n",
    "            if output: print(\"pathloss umi:\", pathlossumi, \"uma:\", pathlossuma, \"rma:\", pathlossrma, \"for distance\", distance)\n",
    "            pathloss_UMa=np.append(pathloss_UMa,pathlossuma)\n",
    "            distance_UMa=np.append(distance_UMa,distance)\n",
    "            pathloss_UMi=np.append(pathloss_UMi,pathlossumi)\n",
    "            distance_UMi=np.append(distance_UMi,distance)\n",
    "            pathloss_RMa=np.append(pathloss_RMa,pathlossrma)\n",
    "            distance_RMa=np.append(distance_RMa,distance)\n",
    "\n",
    "    if output: print(pathloss_UMi,distance_UMi)\n",
    "    if output: print(pathloss_UMa,distance_UMa)\n",
    "    #if output: print(pathloss_RMa,distance_RMa)\n",
    "\n",
    "    interface_UMi=np.empty([0])\n",
    "    interface_UMa=np.empty([0])\n",
    "    interface_RMa=np.empty([0])\n",
    "    pathloss1Umi=np.empty([0])\n",
    "    pathloss1UMa=np.empty([0])\n",
    "    pathloss1RMa=np.empty([0])\n",
    "\n",
    "    for i in range(len(BS_X)):\n",
    "        for j in range(len(FSS_X)):\n",
    "            for k in range(len(UE_X)):\n",
    "                for interference_type in [\"UMi\", \"UMa\", \"RMa\"]:\n",
    "                    if interference_type == \"UMi\":\n",
    "                        BS_Z = np.array([10 for i in range(len(BS_X))])\n",
    "                    elif interference_type == \"UMa\":\n",
    "                        BS_Z = np.array([25 for i in range(len(BS_X))])\n",
    "                    elif interference_type == \"RMa\":\n",
    "                        BS_Z = np.array([35 for i in range(len(BS_X))])\n",
    "                    # bs_ue_x, bs_ue_y, bs_ue_z = BS_X-UE_X, BS_Y-UE_Y, BS_Z-UE_Z\n",
    "                    bs_ue_x, bs_ue_y, bs_ue_z = UE_X[k]-BS_X[i], UE_Y[k]-BS_Y[i], UE_Z[k]-BS_Z[i]\n",
    "\n",
    "                    theta_bs_ue = np.arctan(bs_ue_y/bs_ue_x)\n",
    "                    phi_bs_ue = np.sqrt(bs_ue_x**2 + bs_ue_y**2) / bs_ue_z\n",
    "\n",
    "                    theta_bs_ue = np.degrees(theta_bs_ue) % 360\n",
    "                    phi_bs_ue = np.degrees(phi_bs_ue) % 360\n",
    "                    if output: print(\"theta_bs_ue:\", theta_bs_ue, \"phi_bs_ue:\", phi_bs_ue)\n",
    "\n",
    "                    theta_tilt, phi_scan = max_gain_5g_parameters(theta_bs_ue, phi_bs_ue)\n",
    "\n",
    "                    interfaceumi,pathloss_UMi_x= Interface_UMi_1(BS_X[i],BS_Y[i],BS_Z[i],FSS_X[j],FSS_Y[j],FSS_Z[j],15,pathloss_UMi[i*len(BS_X)+j],theta_tilt,phi_scan)\n",
    "                    interfaceuma,pathloss_UMa_x= Interface_UMa_1(BS_X[i],BS_Y[i],BS_Z[i],FSS_X[j],FSS_Y[j],FSS_Z[j],48,pathloss_UMa[i*len(BS_X)+j],theta_tilt,phi_scan)\n",
    "                    interfacerma,pathloss_RMa_x= Interface_RMa_1(BS_X[i],BS_Y[i],BS_Z[i],FSS_X[j],FSS_Y[j],FSS_Z[j],5,pathloss_RMa[i*len(BS_X)+j],theta_tilt,phi_scan)\n",
    "                    if output: print(\"interference umi:\", pathlossumi, \"uma:\", pathlossuma, \"rma:\", pathlossrma, \"for distance\", distance)\n",
    "                    interface_UMi=np.append(interface_UMi,interfaceumi)\n",
    "                    pathloss1Umi=np.append(pathloss1Umi,pathloss_UMi_x)\n",
    "                    interface_UMa=np.append(interface_UMa,interfaceuma)\n",
    "                    pathloss1UMa=np.append(pathloss1UMa,pathloss_UMa_x)\n",
    "                    interface_RMa=np.append(interface_RMa,interfacerma)\n",
    "                    pathloss1RMa=np.append(pathloss1RMa,pathloss_RMa_x)\n",
    "              \n",
    "    if output: print(interface_UMi,pathloss1Umi)\n",
    "    if output: print(interface_UMa,pathloss1UMa)\n",
    "    if output: print(interface_RMa,pathloss1RMa)\n",
    "\n",
    "    I_N_UMi = np.array([interfaceumi-Noise for interfaceumi in interface_UMi])\n",
    "    if output: print('I/N UMi:', I_N_UMi)\n",
    "    I_N_UMa = np.array([interfaceuma-Noise for interfaceuma in interface_UMa])\n",
    "    if output: print('I/N UMa:', I_N_UMa)      \n",
    "    I_N_RMa = np.array([interfacerma-Noise for interfacerma in interface_RMa])\n",
    "    if output: print('I/N RMa:', I_N_RMa)  \n",
    "\n",
    "    return distance_RMa, I_N_RMa, distance_UMa, I_N_UMa, distance_UMi, I_N_UMi\n",
    "        "
   ]
  },
  {
   "cell_type": "code",
   "execution_count": 12,
   "id": "tofMR_8qCKOX",
   "metadata": {
    "id": "tofMR_8qCKOX"
   },
   "outputs": [],
   "source": [
    "# Prototype functions to calculate antenna gain of 5G base station and FSS earth station\n",
    "\n",
    "import math, cmath\n",
    "from scipy import optimize\n",
    "\n",
    "# gain is in dBi\n",
    "\n",
    "# 3GPP TR 38.901\n",
    "# https://www.etsi.org/deliver/etsi_tr/138900_138999/138901/14.00.00_60/tr_138901v140000p.pdf\n",
    "antenna_gain_max = 8\n",
    "\n",
    "# values recommended by Dr. Zoheb\n",
    "rows = 16  # Nv\n",
    "cols = 16  # Nh\n",
    "hspace = 0.5  # dh/λ\n",
    "vspace = 0.5  # dv/λ\n",
    "\n",
    "# constant values based on ECC Rep 281\n",
    "phi_3db = 80  # degrees\n",
    "theta_3db = 65  # degrees\n",
    "front_to_back_ratio = 30  # dB\n",
    "side_lobe_level_limit = 30  # dB\n",
    "\n",
    "# antenna horizontal pattern\n",
    "def gain_antenna_element_horizontal(phi) -> float:\n",
    "    return -min(\n",
    "                12 * (phi / phi_3db)**2, \n",
    "                front_to_back_ratio\n",
    "            )\n",
    "\n",
    "# antenna vertical pattern\n",
    "def gain_antenna_element_vertical(theta) -> float:\n",
    "    return -min(\n",
    "                12 * ((theta - 90) / theta_3db)**2,\n",
    "                side_lobe_level_limit\n",
    "            )\n",
    "\n",
    "# antenna element gain of elevation and azimuth plane\n",
    "def gain_antenna_element(theta, phi) -> float:\n",
    "    return antenna_gain_max - \\\n",
    "            min(\n",
    "                -(gain_antenna_element_horizontal(phi) + gain_antenna_element_vertical(theta)), \n",
    "                front_to_back_ratio\n",
    "            )\n",
    "\n",
    "def superposition(n, m, theta, phi, hspace, vspace) -> complex:\n",
    "    return cmath.exp(complex(0, 2 * math.pi * \\\n",
    "                (\n",
    "                    (n-1) * vspace * math.cos(math.radians(theta)) + \\\n",
    "                    (m-1) * hspace * math.sin(math.radians(theta)) * math.sin(math.radians(phi))\n",
    "                )\n",
    "            ))\n",
    "\n",
    "def weighting(n, m, theta_tilt, phi_scan, hspace, vspace) -> complex:\n",
    "    return cmath.exp(complex(0, -2 * math.pi * \\\n",
    "                (\n",
    "                    (n-1) * vspace * math.sin(math.radians(theta_tilt)) + \\\n",
    "                    (m-1) * hspace * math.cos(math.radians(theta_tilt)) * math.sin(math.radians(phi_scan))\n",
    "                )\n",
    "            )) / cmath.sqrt(rows * cols)\n",
    "\n",
    "# returns theta_tilt and phi_scan which yield maximum antenna gain given theta and phi\n",
    "def max_gain_5g_parameters(theta, phi) -> tuple:\n",
    "    # inefficient approach, scipy runs way faster\n",
    "\n",
    "    # max_value = -math.inf\n",
    "    # max_parameters = (-90, -180)\n",
    "    # for theta_tilt in tqdm(range(-90, 91, 1)):\n",
    "    #     for phi_scan in range(-180, 181, 1):\n",
    "    #         value = beam_pattern_5g(theta, phi, theta_tilt, phi_scan)\n",
    "    #         if value > max_value:\n",
    "    #             max_value = value\n",
    "    #             max_parameters = (theta_tilt, phi_scan)\n",
    "\n",
    "    # return max_parameters\n",
    "\n",
    "    # scipy's optimization can only find the minimum, so we pass a function which returns the negative of the weighting function\n",
    "    result = optimize.brute(\n",
    "        lambda x: -beam_pattern_5g(theta, phi, x[0], x[1]),  # x[0] = theta_tilt, x[1] = phi_scan\n",
    "        # theta_tilt is between -90 and 90 degrees, phi_scan is between -180 and 180 degrees\n",
    "        ranges = [(-90, 90), (-180, 180)]\n",
    "    )\n",
    "\n",
    "    return tuple(x for x in result)\n",
    "\n",
    "# a_A, the directional pattern from beam forming with an array of elements\n",
    "def beam_pattern_5g(theta, phi, theta_tilt, phi_scan) -> float:\n",
    "    summation = 0\n",
    "    # weighting multiplied by the superposition vector\n",
    "    for n in range(1, rows+1):\n",
    "        for m in range(1, cols+1):\n",
    "            # print(f\"{theta_tilt}, {phi_scan}, {abs(weighting(n, m, theta_tilt, phi_scan, hspace, vspace))}\")\n",
    "            summation += weighting(n, m, theta_tilt, phi_scan, hspace, vspace) * superposition(n, m, theta, phi, hspace, vspace)\n",
    "\n",
    "    return abs(summation)**2\n",
    "\n",
    "# antenna gain of 5G base station (represented by a single beam i)\n",
    "# def gain_5g(theta, phi, theta_tilt, phi_scan) -> float:\n",
    "#     beam_pattern = beam_pattern_5g(theta, phi, theta_tilt, phi_scan)\n",
    "\n",
    "#     return gain_antenna_element(theta, phi) + \\\n",
    "#            10 * math.log10(beam_pattern)\n",
    "\n",
    "# # space refers to D/λ\n",
    "# def get_phi_min(space) -> float:\n",
    "#     # Rec. ITU-R S.465-6\n",
    "#     if space >= 50:\n",
    "#         return max(1.0, 100 * (1 / space))\n",
    "#     else:\n",
    "#         return max(2.0, 114 * (space ** -1.09))\n",
    "\n",
    "# receiving antenna gain of FSS earth station\n",
    "# phi is an angle between base station antenna direction and FSS ES antenna's main axis (elevation angle)\n",
    "def gain_fss_s1428(phi, phi_min) -> float:\n",
    "\n",
    "    if 0 < phi < phi_min:\n",
    "        return 32 - 25 * math.log10(phi_min)\n",
    "    elif phi_min <= phi < 48:\n",
    "        return 32 - 25 * math.log10(phi)\n",
    "    elif 48 <= phi <= 180:\n",
    "        return -10\n",
    "\n",
    "    # This function is only defined where phi is within (0, 180]\n",
    "    raise ValueError(f'Angle phi must be within the interval (0, 180] degrees, was {phi} degrees instead')\n",
    "\n",
    "# co-polarized components only\n",
    "# https://www.etsi.org/deliver/etsi_en/303900_303999/303981/01.02.01_60/en_303981v010201p.pdf\n",
    "def gain_fss_wbes_b(phi) -> float:\n",
    "    if 0 <= phi < 6:\n",
    "        return 0\n",
    "    elif 6 <= phi < 48:\n",
    "        return 40 - 25 * math.log10(phi)\n",
    "    elif 48 <= phi <= 180:\n",
    "        return -2\n",
    "    elif 180 <= phi <= 360:\n",
    "        return gain_fss_wbes_b(360 - phi)\n",
    "\n",
    "    # This function is only defined where phi is within [6, 180]\n",
    "    raise ValueError(f'Angle phi must be within the interval [6, 180] degrees, was {phi} degrees instead')\n",
    "    "
   ]
  },
  {
   "cell_type": "code",
   "execution_count": null,
   "id": "WzSHGwoJvYVz",
   "metadata": {
    "id": "WzSHGwoJvYVz"
   },
   "outputs": [],
   "source": []
  },
  {
   "cell_type": "code",
   "execution_count": 13,
   "id": "e4ea83a9",
   "metadata": {
    "colab": {
     "base_uri": "https://localhost:8080/"
    },
    "id": "e4ea83a9",
    "outputId": "017479fb-0eb5-4bed-d30c-0d2dbbf5ca3a"
   },
   "outputs": [
    {
     "name": "stderr",
     "output_type": "stream",
     "text": [
      "100%|████████████████████████████████████████████████████████████████████████████████| 100/100 [30:04<00:00, 18.04s/it]\n"
     ]
    }
   ],
   "source": [
    "from tqdm import tqdm\n",
    "\n",
    "distance_RMa, I_N_RMa, distance_UMa, I_N_UMa, distance_UMi, I_N_UMi = [[] for x in range(6)]\n",
    "simulation_count = 100\n",
    "for i in tqdm(range(simulation_count)):\n",
    "   distance_RMa_single, I_N_RMa_single, distance_UMa_single, I_N_UMa_single, distance_UMi_single, I_N_UMi_single = simulate(output=False)\n",
    "   distance_RMa.append(distance_RMa_single)\n",
    "   I_N_RMa.append(I_N_RMa_single)\n",
    "   distance_UMa.append(distance_UMa_single)\n",
    "   I_N_UMa.append(I_N_UMa_single)\n",
    "   distance_UMi.append(distance_UMi_single)\n",
    "   I_N_UMi.append(I_N_UMi_single)\n",
    "\n",
    "pairs = {\n",
    "  'RMa': (distance_RMa, I_N_RMa),\n",
    "  'UMa': (distance_UMa, I_N_UMa),\n",
    "  'UMi': (distance_UMi, I_N_UMi)\n",
    "}\n",
    "\n",
    "# for key in pairs:\n",
    "#   distance, interface_Noise = pairs[key]\n",
    "#   distance_sorted,interface_Noise_sorted = zip(*sorted(zip(distance, interface_Noise)))\n",
    "#   plt.scatter(np.array(distance_sorted), np.array(interface_Noise_sorted), label=key)\n",
    "\n",
    "# plt.title('I/N Vs Distance graph')\n",
    "# plt.xlabel('Distance (meter)')\n",
    "# plt.ylabel('I/N (db)')\n",
    "# plt.legend()\n",
    "# plt.show()"
   ]
  },
  {
   "cell_type": "code",
   "execution_count": 14,
   "id": "LC2MZudkggcR",
   "metadata": {
    "colab": {
     "base_uri": "https://localhost:8080/",
     "height": 313
    },
    "id": "LC2MZudkggcR",
    "outputId": "6987908d-13a1-4eb0-d4e8-25a2bb01a88a"
   },
   "outputs": [
    {
     "name": "stderr",
     "output_type": "stream",
     "text": [
      "No artists with labels found to put in legend.  Note that artists whose label start with an underscore are ignored when legend() is called with no argument.\n"
     ]
    },
    {
     "data": {
      "image/png": "[encoded data removed]",
      "text/plain": [
       "<Figure size 432x288 with 1 Axes>"
      ]
     },
     "metadata": {
      "needs_background": "light"
     },
     "output_type": "display_data"
    }
   ],
   "source": [
    "distance, interface_Noise = pairs['RMa']\n",
    "for i in range(len(distance)):\n",
    "  distance_sorted,interface_Noise_sorted = zip(*sorted(zip(distance[i], interface_Noise[i])))\n",
    "  plt.scatter(np.array(distance_sorted), np.array(interface_Noise_sorted))\n",
    "\n",
    "plt.title('I/N Vs Distance graph (RMa) ')\n",
    "plt.xlabel('Distance (meter)')\n",
    "plt.ylabel('I/N (db)')\n",
    "plt.legend()\n",
    "plt.show()"
   ]
  },
  {
   "cell_type": "code",
   "execution_count": 15,
   "id": "1lufGDWrgmMo",
   "metadata": {
    "colab": {
     "base_uri": "https://localhost:8080/",
     "height": 313
    },
    "id": "1lufGDWrgmMo",
    "outputId": "9ca36566-5e3b-4307-807f-fa3ffe28355c"
   },
   "outputs": [
    {
     "name": "stderr",
     "output_type": "stream",
     "text": [
      "No artists with labels found to put in legend.  Note that artists whose label start with an underscore are ignored when legend() is called with no argument.\n"
     ]
    },
    {
     "data": {
      "image/png": "[encoded data removed]",
      "text/plain": [
       "<Figure size 432x288 with 1 Axes>"
      ]
     },
     "metadata": {
      "needs_background": "light"
     },
     "output_type": "display_data"
    }
   ],
   "source": [
    "distance, interface_Noise = pairs['UMa']\n",
    "for i in range(len(distance)):\n",
    "  distance_sorted,interface_Noise_sorted = zip(*sorted(zip(distance[i], interface_Noise[i])))\n",
    "  plt.scatter(np.array(distance_sorted), np.array(interface_Noise_sorted))\n",
    "\n",
    "plt.title('I/N Vs Distance graph (UMa) ')\n",
    "plt.xlabel('Distance (meter)')\n",
    "plt.ylabel('I/N (db)')\n",
    "plt.legend()\n",
    "plt.show()"
   ]
  },
  {
   "cell_type": "code",
   "execution_count": 16,
   "id": "mcf7kcwPgphr",
   "metadata": {
    "colab": {
     "base_uri": "https://localhost:8080/",
     "height": 313
    },
    "id": "mcf7kcwPgphr",
    "outputId": "0370ce67-0d69-44b0-db10-e04ab2de0c95"
   },
   "outputs": [
    {
     "name": "stderr",
     "output_type": "stream",
     "text": [
      "No artists with labels found to put in legend.  Note that artists whose label start with an underscore are ignored when legend() is called with no argument.\n"
     ]
    },
    {
     "data": {
      "image/png": "[encoded data removed]",
      "text/plain": [
       "<Figure size 432x288 with 1 Axes>"
      ]
     },
     "metadata": {
      "needs_background": "light"
     },
     "output_type": "display_data"
    }
   ],
   "source": [
    "distance, interface_Noise = pairs['UMi']\n",
    "for i in range(len(distance)):\n",
    "  distance_sorted,interface_Noise_sorted = zip(*sorted(zip(distance[i], interface_Noise[i])))\n",
    "  plt.scatter(np.array(distance_sorted), np.array(interface_Noise_sorted))\n",
    "\n",
    "plt.title('I/N Vs Distance graph (UMI)')\n",
    "plt.xlabel('Distance (meter)')\n",
    "plt.ylabel('I/N (db)')\n",
    "plt.legend()\n",
    "plt.show()"
   ]
  },
  {
   "cell_type": "code",
   "execution_count": 17,
   "id": "f8d87260",
   "metadata": {
    "colab": {
     "base_uri": "https://localhost:8080/",
     "height": 295
    },
    "id": "f8d87260",
    "outputId": "8406446b-2829-44ed-a7ac-461cadafcf69"
   },
   "outputs": [
    {
     "data": {
      "image/png": "[encoded data removed]",
      "text/plain": [
       "<Figure size 432x288 with 1 Axes>"
      ]
     },
     "metadata": {
      "needs_background": "light"
     },
     "output_type": "display_data"
    }
   ],
   "source": [
    "for key in pairs:\n",
    "  distance, interface_Noise = pairs[key]\n",
    "  distance_1D = np.array([])\n",
    "  for arr in distance:\n",
    "    distance_1D = np.append(distance_1D, arr)\n",
    "  interface_Noise_1D = np.array([])\n",
    "  for arr in interface_Noise:\n",
    "    interface_Noise_1D = np.append(interface_Noise_1D, arr)\n",
    "  distance_sorted,interface_Noise_sorted = zip(*sorted(zip(distance_1D, interface_Noise_1D)))\n",
    "  coefficients = np.polyfit(distance_sorted, interface_Noise_sorted, 5)\n",
    "  # y = ax + b, where y is the average of interface_Noise_sorted\n",
    "  plt.plot(np.array(distance_sorted), np.polyval(coefficients, distance_sorted), label=key)\n",
    "\n",
    "plt.title('I/N Vs Distance graph')\n",
    "plt.xlabel('Distance (meter)')\n",
    "plt.ylabel('I/N (db)')\n",
    "plt.legend()\n",
    "plt.show()"
   ]
  },
  {
   "cell_type": "code",
   "execution_count": null,
   "id": "43a6075a",
   "metadata": {
    "id": "43a6075a"
   },
   "outputs": [],
   "source": []
  }
 ],
 "metadata": {
  "colab": {
   "collapsed_sections": [],
   "name": "1Bs_and_30UE.ipynb",
   "provenance": []
  },
  "kernelspec": {
   "display_name": "Python 3 (ipykernel)",
   "language": "python",
   "name": "python3"
  },
  "language_info": {
   "codemirror_mode": {
    "name": "ipython",
    "version": 3
   },
   "file_extension": ".py",
   "mimetype": "text/x-python",
   "name": "python",
   "nbconvert_exporter": "python",
   "pygments_lexer": "ipython3",
   "version": "3.9.12"
  }
 },
 "nbformat": 4,
 "nbformat_minor": 5
}
