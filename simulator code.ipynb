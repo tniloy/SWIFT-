{
 "cells": [
  {
   "cell_type": "markdown",
   "id": "db6035d7",
   "metadata": {},
   "source": [
    "# Step 0: Importing the libraries"
   ]
  },
  {
   "cell_type": "code",
   "execution_count": 1,
   "id": "2abef29b",
   "metadata": {},
   "outputs": [],
   "source": [
    "import math\n",
    "import random"
   ]
  },
  {
   "cell_type": "markdown",
   "id": "5ef2bfe3",
   "metadata": {},
   "source": [
    "# Step 1: Defining the area"
   ]
  },
  {
   "cell_type": "code",
   "execution_count": 2,
   "id": "571bc1e1",
   "metadata": {},
   "outputs": [
    {
     "name": "stdout",
     "output_type": "stream",
     "text": [
      "Total area is = 78539816.33974482\n"
     ]
    }
   ],
   "source": [
    "center_x = 0\n",
    "center_y = 0\n",
    "center_z = 0\n",
    "\n",
    "radius  = 5000\n",
    "\n",
    "print(\"Total area is = \" + str(radius*radius*math.pi))"
   ]
  },
  {
   "cell_type": "markdown",
   "id": "9ffa60fc",
   "metadata": {},
   "source": [
    "# Step 2: FSS class"
   ]
  },
  {
   "cell_type": "code",
   "execution_count": 3,
   "id": "55e30595",
   "metadata": {},
   "outputs": [
    {
     "name": "stdout",
     "output_type": "stream",
     "text": [
      "Co-ordinate of FSS is = 0,0,0\n"
     ]
    }
   ],
   "source": [
    "# Creating the FSS class\n",
    "class FSS:\n",
    "  def __init__(self, FSS_x, FSS_y, FSS_z):\n",
    "    self.FSS_x = FSS_x\n",
    "    self.FSS_y = FSS_y\n",
    "    self.FSS_z = FSS_z\n",
    "\n",
    "\n",
    "  def FSS_co_ordinate(self):\n",
    "    print(\"Co-ordinate of FSS is = \" + str(self.FSS_x) + \",\" + str(self.FSS_y) + \",\" + str(self.FSS_z))\n",
    "    \n",
    "\n",
    "    \n",
    "# Creating an FSS object\n",
    "fss1 = FSS(0,0,0)\n",
    "fss1.FSS_co_ordinate()"
   ]
  },
  {
   "cell_type": "markdown",
   "id": "400e80b0",
   "metadata": {},
   "source": [
    "# Step 3: BS Class"
   ]
  },
  {
   "cell_type": "code",
   "execution_count": 4,
   "id": "50e8c282",
   "metadata": {
    "scrolled": true
   },
   "outputs": [
    {
     "name": "stdout",
     "output_type": "stream",
     "text": [
      "2705.3512551499043 -1284.1200182422956 29\n",
      "-1978.5148043753113 1745.3901885139314 10\n",
      "-1736.5291638210701 -1719.4147564679258 31\n",
      "-1200.4430535837355 4285.363944027076 25\n",
      "\n",
      "\n",
      "552.7614914126464 3208.525341702909 0.8525551824901085\n",
      "3714.347154783393 -732.8060724750919 0.34775097482101525\n",
      "415.4295880019164 -2969.4782972472094 0.5372559916915038\n",
      "-2937.9446240296747 3434.3799977192302 1.0327150965363168\n",
      "3434.195251713967 1596.1684965450581 1.4456448663315764\n",
      "1166.1687612231162 -885.1530590412447 0.5599815634068288\n",
      "-1331.4164829027536 -1421.7948700885304 1.2097097198772802\n",
      "2969.783644286232 4257.8403092907665 0.5459583936030594\n",
      "-17.30097682618674 -1558.4978273278466 0.22456282358867685\n",
      "2703.3934983804356 -2426.1602067159533 1.3661472885566086\n"
     ]
    }
   ],
   "source": [
    "class BS:\n",
    "  def __init__(self, radius, max_height, carr_freq):\n",
    "    self.radius = radius\n",
    "    self.max_height = max_height\n",
    "    self.carr_freq = carr_freq\n",
    "\n",
    "  def BS_random_co_ordinates(self):\n",
    "\n",
    "    BS_x = random.randint(-4000,4000) + 1000*random.random()\n",
    "    BS_y = random.randint(-4000,4000) + 1000*random.random()\n",
    "    BS_z = random.randint(0,35)\n",
    "    \n",
    "    return BS_x, BS_y, BS_z\n",
    " \n",
    "  def UE_random_co_ordinates(self):\n",
    "    UE_x = random.randint(-4000,4000) + 1000*random.random()\n",
    "    UE_y = random.randint(-4000,4000) + 1000*random.random()\n",
    "    UE_z = random.uniform (0,1.5)\n",
    "    \n",
    "    return UE_x, UE_y, UE_z\n",
    "\n",
    "  ##def path_loss(self):\n",
    "\n",
    "    ##path_loss = \n",
    "    \n",
    "    ##return path_loss\n",
    "\n",
    "\n",
    "for i in range (4):\n",
    "    bs1 = BS(radius, max_height=35, carr_freq=12)\n",
    "    BS_x, BS_y, BS_z = bs1.BS_random_co_ordinates()\n",
    "    print (BS_x, BS_y, BS_z)\n",
    "    \n",
    "print (\"\\n\")\n",
    "    \n",
    "for i in range (10):\n",
    "    ue1 = BS(radius, max_height=1.5, carr_freq=12)\n",
    "    UE_x,  UE_y, UE_z = ue1.UE_random_co_ordinates()\n",
    "    print(UE_x, UE_y, UE_z)\n",
    " \n",
    "    "
   ]
  },
  {
   "cell_type": "markdown",
   "id": "51ffca00",
   "metadata": {},
   "source": []
  }
 ],
 "metadata": {
  "kernelspec": {
   "display_name": "Python 3 (ipykernel)",
   "language": "python",
   "name": "python3"
  },
  "language_info": {
   "codemirror_mode": {
    "name": "ipython",
    "version": 3
   },
   "file_extension": ".py",
   "mimetype": "text/x-python",
   "name": "python",
   "nbconvert_exporter": "python",
   "pygments_lexer": "ipython3",
   "version": "3.9.12"
  }
 },
 "nbformat": 4,
 "nbformat_minor": 5
}
